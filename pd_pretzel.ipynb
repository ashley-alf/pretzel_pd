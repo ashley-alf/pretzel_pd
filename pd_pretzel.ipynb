{
 "cells": [
  {
   "cell_type": "code",
   "execution_count": 353,
   "metadata": {},
   "outputs": [],
   "source": [
    "def tangle_points(nums):\n",
    "    n = len(nums)\n",
    "    matrix = [[[0,0] for i in range(n)] for j in range(2)]\n",
    "\n",
    "    matrix[0][0] = [-1,0]\n",
    "    matrix[0][-1] = [0,1]\n",
    "    count = 1\n",
    "    direction = -1\n",
    "    strand = 0 \n",
    "    current_cell = (0,0)\n",
    "    pretzel_index = 0 \n",
    "    temp_num = -1\n",
    "\n",
    "    while count < 2*n: \n",
    "        num_crossings = nums[pretzel_index]\n",
    "        #print(num_crossings)\n",
    "        temp_num += direction * abs(num_crossings) #get the number we gonna add\n",
    "        #print(temp_num)\n",
    "        if num_crossings % 2 != 0: \n",
    "            strand = (strand+1)%2\n",
    "        current_cell = ((current_cell[0]+1)%2,current_cell[1])\n",
    "\n",
    "        #we want to check if the position we want to update has been filled out already or nah:\n",
    "        if matrix[current_cell[0]][current_cell[1]][strand] != 0: #if this is true then we are at a cycle\n",
    "            #find the nearest 0 and update current cell to that\n",
    "            if temp_num > 0:\n",
    "                temp_num *= -1 \n",
    "            \n",
    "            #could be done more efficiently just wanted to see if it worked\n",
    "            finish = False\n",
    "            for i in range(len(matrix[0])): \n",
    "                # if matrix[0][i][0] == 0: \n",
    "                #     current_cell = (0,i)\n",
    "                #     strand = 0\n",
    "                #     pretzel_index = current_cell[1]\n",
    "                #     direction *= -1\n",
    "                #     break\n",
    "                # if matrix[0][i][1] == 0: \n",
    "                #     current_cell = (0,i)\n",
    "                #     strand = 1\n",
    "                #     pretzel_index = current_cell[1]\n",
    "                #     direction *= -1\n",
    "                #     break\n",
    "                if finish: \n",
    "                    break\n",
    "                for s in range(2):\n",
    "                    if matrix[0][i][s] == 0: \n",
    "                        current_cell = (0,i)\n",
    "                        strand = s\n",
    "                        pretzel_index = current_cell[1]\n",
    "                        direction *= -1\n",
    "                        finish = True\n",
    "                        break\n",
    "                \n",
    "            #num_crossings = nums[pretzel_index]\n",
    "            matrix[current_cell[0]][current_cell[1]][strand] = temp_num\n",
    "            if strand == 0: \n",
    "                temp_cell = (current_cell[0], (current_cell[1]-1)%n)\n",
    "            else: \n",
    "                temp_cell = (current_cell[0], (current_cell[1]+1)%n) \n",
    "            matrix[temp_cell[0]][temp_cell[1]][(strand+1)%2] = temp_num*-1\n",
    "            count +=1\n",
    "            continue\n",
    "        \n",
    "        matrix[current_cell[0]][current_cell[1]][strand] = temp_num #add whatever the number is\n",
    "        #now add the same number to it's corresponding place: \n",
    "        #looking for where to go next\n",
    "        if strand == 0: \n",
    "            current_cell = (current_cell[0], (current_cell[1]-1)%n)\n",
    "        else: \n",
    "            current_cell = (current_cell[0], (current_cell[1]+1)%n)        \n",
    "       \n",
    "        #update these\n",
    "        \n",
    "        pretzel_index = current_cell[1]\n",
    "       \n",
    "        strand = (strand+1)%2\n",
    "        direction *= -1\n",
    "        #get temp num\n",
    "        temp_num *= -1\n",
    "        matrix[current_cell[0]][current_cell[1]][strand] = temp_num\n",
    "        count += 1\n",
    "    # for i in range(len(matrix)):\n",
    "    #     print(matrix[i])\n",
    "    return [[tuple(sublist) for sublist in inner_list] for inner_list in matrix]\n",
    "# tangle_points([3,4,-2,1])"
   ]
  },
  {
   "cell_type": "code",
   "execution_count": 354,
   "metadata": {},
   "outputs": [],
   "source": [
    "def get_pd(temp, new, slope, direction, strand): \n",
    "    if slope < 0: \n",
    "        if direction == -1 and strand == 1: \n",
    "            return [abs(temp[1]), abs(temp[0]), abs(new[0]), abs(new[1])]\n",
    "        elif direction == 1 and strand == 0: \n",
    "            return [abs(temp[0]), abs(temp[1]), abs(new[1]), abs(new[0])]\n",
    "    else: \n",
    "        if direction == -1 and strand == 0: \n",
    "            return [abs(temp[0]), abs(new[0]), abs(new[1]), abs(temp[1])]\n",
    "        elif direction == 1 and strand == 1: \n",
    "            return [abs(temp[1]), abs(new[1]), abs(new[0]), abs(temp[0])]\n",
    "    return None"
   ]
  },
  {
   "cell_type": "code",
   "execution_count": 355,
   "metadata": {},
   "outputs": [],
   "source": [
    "def valid_labeling_2(start_cell, end_cell, pretzel,strand, direction): \n",
    "    #return none if it is or else strand of which label is bad\n",
    "    (a,b) = start_cell\n",
    "    (c,d) = end_cell\n",
    "    left_strand_from_start = True\n",
    "    right_strand_from_start = True\n",
    "    pair_1 = 0\n",
    "    pair_2 = 0\n",
    "    if pretzel % 2 == 0: \n",
    "        #check directions: \n",
    "        pair_1 = (a,c)\n",
    "        pair_2 = (b,d)\n",
    "        if a < 0: # we going down so check if c it is bigger \n",
    "           \n",
    "            if abs(c) < abs(a): # if it's not then make it False\n",
    "                left_strand_from_start = False \n",
    "        else: #if going up u wanna check c is smaller\n",
    "            if abs(a) < abs(c): \n",
    "                left_strand_from_start = False \n",
    "        if b <0: # we going down so check if c it is bigger \n",
    "            pair_2 = (b,d)\n",
    "            if abs(d) < abs(b): # if it's not then make it False\n",
    "                right_strand_from_start = False \n",
    "        else: #if going up u wanna check c is smaller\n",
    "            if abs(b) < abs(d): \n",
    "                right_strand_from_start = False \n",
    "    else: #we are at an even: \n",
    "         #check directions: \n",
    "        pair_1 = (a,d)\n",
    "        pair_2 = (b,c)\n",
    "        if a < 0: # we going down so check if d it is bigger \n",
    "            if abs(a) < abs(d): # if it's not then make it False\n",
    "                l_strand_from_start = False \n",
    "        else: #if going up u wanna check d is smaller\n",
    "            if abs(d) < abs(a): \n",
    "                left_strand_from_start = False \n",
    "        if b <0: # we going down so check if c it is bigger \n",
    "            if abs(b) < abs(c): # if it's not then make it False\n",
    "                right_strand_from_start = False \n",
    "        else: #if going up u wanna check c is smaller\n",
    "            if abs(c) < abs(b): \n",
    "                right_strand_from_start = False \n",
    "\n",
    "    if (left_strand_from_start and right_strand_from_start) == False:\n",
    "        if left_strand_from_start == False and strand == 1:\n",
    "            if pair_1[0] <0:\n",
    "                sign = -1\n",
    "            else:\n",
    "                sign = 1\n",
    "            return (start_cell[1]+ direction, (abs(pair_1[1])+abs(pretzel)-1)*sign)\n",
    "        elif right_strand_from_start and strand == 0: \n",
    "            if pair_2[0] <0:\n",
    "                sign = -1\n",
    "            else:\n",
    "                sign = 1\n",
    "            return ((abs(pair_2[1])+abs(pretzel)-1)*sign, start_cell[0] + direction)\n",
    "    return None"
   ]
  },
  {
   "cell_type": "code",
   "execution_count": 356,
   "metadata": {},
   "outputs": [
    {
     "name": "stdout",
     "output_type": "stream",
     "text": [
      "tangle points\n",
      " [[(-1, -8), (8, 19), (-19, -12), (12, 1)], [(-11, -4), (4, 15), (-15, -22), (22, 11)]]\n",
      "PD Code for:  [3, 4, -3, 1]\n"
     ]
    },
    {
     "data": {
      "text/plain": [
       "[[1, 9, 2, 8],\n",
       " [3, 11, 4, 10],\n",
       " [5, 17, 6, 16],\n",
       " [7, 19, 8, 18],\n",
       " [9, 3, 10, 2],\n",
       " [11, 1, 12, 22],\n",
       " [12, 19, 13, 20],\n",
       " [14, 21, 15, 22],\n",
       " [15, 11, 16, 4],\n",
       " [17, 13, 18, 12],\n",
       " [20, 13, 21, 14]]"
      ]
     },
     "execution_count": 356,
     "metadata": {},
     "output_type": "execute_result"
    }
   ],
   "source": [
    "def pretzel_pd_2(nums, pairs):\n",
    "    total_crossings = sum([abs(num) for num in nums])\n",
    "    n = len(nums)\n",
    "    pd_code = []\n",
    "    start_index = (0,0) \n",
    "    goal_index = (1,0)\n",
    "\n",
    "    start_cell = pairs[start_index[0]][start_index[1]]\n",
    "    goal_cell = pairs[goal_index[0]][goal_index[1]]\n",
    "    explored = set()\n",
    "    explored.add(-1)\n",
    "    pretzel = nums[start_index[1]]\n",
    "    temp_cell = start_cell\n",
    "    direction = -1 \n",
    "    strand = 0 \n",
    "    temp_crossing = 0\n",
    "    while len(pd_code) < total_crossings: \n",
    "        if temp_crossing == abs(pretzel)-1: #if the next crossing is the goal\n",
    "            new_cell = (goal_cell[0], goal_cell[1])\n",
    "\n",
    "        else: \n",
    "            new_cell = (temp_cell[1]+direction, temp_cell[0]+direction) \n",
    "        \n",
    "        if temp_cell == start_cell: \n",
    "            if temp_cell[strand] not in explored:\n",
    "                explored.add(temp_cell[strand])\n",
    "            #want to check if we at a link and need to change stuff \n",
    "            if pretzel != nums[-1]:\n",
    "                temp_new_cell = valid_labeling_2(start_cell, goal_cell, pretzel, strand,direction)\n",
    "                if temp_new_cell!= None: \n",
    "                    #print(\"wow in here: \", temp_new_cell)\n",
    "                    new_cell = temp_new_cell\n",
    "\n",
    "        pd = get_pd(temp_cell, new_cell, pretzel, direction, strand)\n",
    "        temp_crossing += 1\n",
    "            \n",
    "        if pd is not None: \n",
    "            pd_code.append(pd)\n",
    "        temp_cell = new_cell \n",
    "        #print(f\"temp_cell: {temp_cell} and goal_cell = {goal_cell} =? {temp_cell == goal_cell}\")\n",
    "        strand = (strand+1)%2\n",
    "       \n",
    "        \n",
    "        if temp_cell == goal_cell: \n",
    "            if temp_cell[strand] not in explored:\n",
    "                explored.add(temp_cell[strand])\n",
    "            \n",
    "            if strand == 1: \n",
    "                start_index = (goal_index[0], (goal_index[1]+1)%n)\n",
    "                goal_index = ((start_index[0]+1)%2, start_index[1])\n",
    "\n",
    "                start_cell = pairs[start_index[0]][start_index[1]]\n",
    "                goal_cell = pairs[goal_index[0]][goal_index[1]]\n",
    "            else: \n",
    "                start_index = (goal_index[0], (goal_index[1]-1)%n)\n",
    "                goal_index = ((start_index[0]+1)%2, start_index[1])\n",
    "\n",
    "                start_cell = pairs[start_index[0]][start_index[1]]\n",
    "                goal_cell = pairs[goal_index[0]][goal_index[1]]\n",
    "            \n",
    "            temp_cell = start_cell\n",
    "            strand = (strand+1)%2\n",
    "            pretzel = nums[start_index[1]]\n",
    "            direction *= -1\n",
    "            temp_crossing = 0\n",
    "            if temp_cell[strand] in explored: # means we are about to start in a cycle\n",
    "                #look for strand that has not been explored yet -> could optimize later\n",
    "                finish = False\n",
    "                for i in range(len(pairs[0])): \n",
    "                    if finish: \n",
    "                        break\n",
    "                    for s in range(2):\n",
    "                        if pairs[0][i][s] not in explored:\n",
    "                            start_index = (0,i)\n",
    "                            goal_index = (1,i)\n",
    "\n",
    "                            start_cell = pairs[start_index[0]][start_index[1]]\n",
    "                            goal_cell = pairs[goal_index[0]][goal_index[1]]\n",
    "\n",
    "                            strand = s\n",
    "                    \n",
    "                            pretzel = nums[start_index[1]]\n",
    "                            \n",
    "                            if pairs[0][i][s] < 0: \n",
    "                                direction = -1\n",
    "                            else: \n",
    "                                direction = 1\n",
    "                            \n",
    "                            temp_crossing = 0\n",
    "                            finish = True\n",
    "                            temp_cell = start_cell\n",
    "                            explored.add(temp_cell[strand])\n",
    "    return pd_code\n",
    " \n",
    "    #     pd_cod\n",
    "nums = [3,4,-3,1] # link\n",
    "print(f\"tangle points\\n {tangle_points(nums)}\")\n",
    "print(\"PD Code for: \", nums)\n",
    "pretzel_pd_2(nums,tangle_points(nums))"
   ]
  },
  {
   "cell_type": "code",
   "execution_count": 357,
   "metadata": {},
   "outputs": [
    {
     "name": "stdout",
     "output_type": "stream",
     "text": [
      "tangle points\n",
      " [[(-1, -12), (12, 7), (-7, -16), (16, 1)], [(-15, -4), (4, 9), (-9, -18), (18, 15)]]\n",
      "PD Code for:  [3, 3, -2, 1]\n"
     ]
    },
    {
     "data": {
      "text/plain": [
       "[[1, 13, 2, 12],\n",
       " [3, 15, 4, 14],\n",
       " [5, 11, 6, 10],\n",
       " [8, 17, 9, 18],\n",
       " [9, 5, 10, 4],\n",
       " [11, 7, 12, 6],\n",
       " [13, 3, 14, 2],\n",
       " [15, 1, 16, 18],\n",
       " [16, 7, 17, 8]]"
      ]
     },
     "execution_count": 357,
     "metadata": {},
     "output_type": "execute_result"
    }
   ],
   "source": [
    "nums = [3,3,-2,1]\n",
    "print(f\"tangle points\\n {tangle_points(nums)}\")\n",
    "print(\"PD Code for: \", nums)\n",
    "pretzel_pd_2(nums,tangle_points(nums))"
   ]
  },
  {
   "cell_type": "code",
   "execution_count": 358,
   "metadata": {},
   "outputs": [
    {
     "name": "stdout",
     "output_type": "stream",
     "text": [
      "tangle points\n",
      " [[(-1, -6), (6, 1)], [(-3, -8), (8, 3)]]\n",
      "PD Code for:  [2, 3]\n"
     ]
    },
    {
     "data": {
      "text/plain": [
       "[[1, 7, 2, 6], [3, 9, 4, 8], [5, 1, 6, 10], [7, 3, 8, 2], [9, 5, 10, 4]]"
      ]
     },
     "execution_count": 358,
     "metadata": {},
     "output_type": "execute_result"
    }
   ],
   "source": [
    "nums = [2,3]\n",
    "print(f\"tangle points\\n {tangle_points(nums)}\")\n",
    "print(\"PD Code for: \", nums)\n",
    "pretzel_pd_2(nums,tangle_points(nums))"
   ]
  },
  {
   "cell_type": "code",
   "execution_count": 359,
   "metadata": {},
   "outputs": [
    {
     "name": "stdout",
     "output_type": "stream",
     "text": [
      "tangle points\n",
      " [[(-1, 5), (-5, 3), (-3, 1)], [(4, -2), (2, -6), (6, -4)]]\n",
      "PD Code for:  [-1, -1, -1]\n"
     ]
    },
    {
     "data": {
      "text/plain": [
       "[[2, 6, 3, 5], [4, 2, 5, 1], [6, 4, 1, 3]]"
      ]
     },
     "execution_count": 359,
     "metadata": {},
     "output_type": "execute_result"
    }
   ],
   "source": [
    "nums = [-1,-1,-1]\n",
    "print(f\"tangle points\\n {tangle_points(nums)}\")\n",
    "print(\"PD Code for: \", nums)\n",
    "pretzel_pd_2(nums,tangle_points(nums))"
   ]
  },
  {
   "cell_type": "code",
   "execution_count": 360,
   "metadata": {},
   "outputs": [
    {
     "name": "stdout",
     "output_type": "stream",
     "text": [
      "tangle points\n",
      " [[(-1, -11), (11, 16), (-16, -6), (6, 1)], [(-3, -13), (13, 18), (-18, -8), (8, 3)]]\n",
      "PD Code for:  [2, 3, 2, 3]\n"
     ]
    },
    {
     "data": {
      "text/plain": [
       "[[1, 12, 2, 11],\n",
       " [3, 9, 4, 8],\n",
       " [5, 1, 6, 10],\n",
       " [7, 18, 8, 17],\n",
       " [9, 5, 10, 4],\n",
       " [12, 3, 13, 2],\n",
       " [14, 20, 15, 19],\n",
       " [16, 7, 17, 6],\n",
       " [18, 14, 19, 13],\n",
       " [20, 16, 11, 15]]"
      ]
     },
     "execution_count": 360,
     "metadata": {},
     "output_type": "execute_result"
    }
   ],
   "source": [
    "nums = [2,3,2,3] #another link example\n",
    "print(f\"tangle points\\n {tangle_points(nums)}\")\n",
    "print(\"PD Code for: \", nums)\n",
    "pretzel_pd_2(nums,tangle_points(nums))"
   ]
  }
 ],
 "metadata": {
  "kernelspec": {
   "display_name": "Python 3.12.2 64-bit",
   "language": "python",
   "name": "python3"
  },
  "language_info": {
   "codemirror_mode": {
    "name": "ipython",
    "version": 3
   },
   "file_extension": ".py",
   "mimetype": "text/x-python",
   "name": "python",
   "nbconvert_exporter": "python",
   "pygments_lexer": "ipython3",
   "version": "3.12.2"
  },
  "orig_nbformat": 4,
  "vscode": {
   "interpreter": {
    "hash": "aee8b7b246df8f9039afb4144a1f6fd8d2ca17a180786b69acc140d282b71a49"
   }
  }
 },
 "nbformat": 4,
 "nbformat_minor": 2
}
